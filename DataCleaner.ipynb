{
 "cells": [
  {
   "cell_type": "code",
   "execution_count": 8,
   "id": "e90d1e08",
   "metadata": {},
   "outputs": [],
   "source": [
    "import pandas as pd\n",
    "import nltk\n",
    "from nltk.corpus import stopwords\n",
    "import string"
   ]
  },
  {
   "cell_type": "code",
   "execution_count": 9,
   "id": "c241b28b",
   "metadata": {},
   "outputs": [
    {
     "name": "stdout",
     "output_type": "stream",
     "text": [
      "   ARTICLE_ID                                       SECTION_TEXT\n",
      "0           0  anarchism political philosophy advocates selfg...\n",
      "1           0  term anarchism compound word composed word ana...\n",
      "2           0  origins woodcut diggers document william evera...\n",
      "3           0  portrait philosopher pierrejoseph proudhon 180...\n",
      "4           0  consistent anarchist values controversial subj...\n"
     ]
    }
   ],
   "source": [
    "# Assuming your CSV file is located in the current directory\n",
    "file_path = \"enwiki-20170820.csv\"\n",
    "\n",
    "# Load the first 500 rows into a variable named \"data\"\n",
    "data = pd.read_csv(file_path, usecols=['ARTICLE_ID', 'SECTION_TEXT'], nrows=500)\n",
    "\n",
    "# Drop rows with any missing values\n",
    "data.dropna(inplace=True)\n",
    "\n",
    "# Remove duplicate rows\n",
    "data.drop_duplicates(inplace=True)\n",
    "\n",
    "# Convert text to lowercase for consistency in 'SECTION_TEXT' column\n",
    "data['SECTION_TEXT'] = data['SECTION_TEXT'].str.lower()\n",
    "\n",
    "# Remove special characters from text data in 'SECTION_TEXT' column\n",
    "data['SECTION_TEXT'] = data['SECTION_TEXT'].str.replace('[^a-zA-Z0-9\\s]', '')\n",
    "\n",
    "# Remove punctuation\n",
    "data['SECTION_TEXT'] = data['SECTION_TEXT'].apply(lambda x: x.translate(str.maketrans('', '', string.punctuation)))\n",
    "\n",
    "# Download the stopwords corpus if not already downloaded\n",
    "#nltk.download('stopwords')\n",
    "\n",
    "# Remove stop words\n",
    "stop_words = set(stopwords.words('english'))\n",
    "data['SECTION_TEXT'] = data['SECTION_TEXT'].apply(lambda x: ' '.join([word for word in x.split() if word not in stop_words]))\n",
    "\n",
    "\n",
    "# Display the first few rows of the loaded data to verify\n",
    "print(data.head())"
   ]
  },
  {
   "cell_type": "code",
   "execution_count": 10,
   "id": "42c38c13",
   "metadata": {},
   "outputs": [
    {
     "name": "stdout",
     "output_type": "stream",
     "text": [
      "Initial dataset information:\n",
      "<class 'pandas.core.frame.DataFrame'>\n",
      "Index: 490 entries, 0 to 499\n",
      "Data columns (total 2 columns):\n",
      " #   Column        Non-Null Count  Dtype \n",
      "---  ------        --------------  ----- \n",
      " 0   ARTICLE_ID    490 non-null    int64 \n",
      " 1   SECTION_TEXT  490 non-null    object\n",
      "dtypes: int64(1), object(1)\n",
      "memory usage: 11.5+ KB\n",
      "None\n"
     ]
    }
   ],
   "source": [
    "# Display basic information about the dataset\n",
    "print(\"Initial dataset information:\")\n",
    "print(data.info())"
   ]
  },
  {
   "cell_type": "code",
   "execution_count": null,
   "id": "e6ba2992",
   "metadata": {},
   "outputs": [],
   "source": []
  }
 ],
 "metadata": {
  "kernelspec": {
   "display_name": "Python 3 (ipykernel)",
   "language": "python",
   "name": "python3"
  },
  "language_info": {
   "codemirror_mode": {
    "name": "ipython",
    "version": 3
   },
   "file_extension": ".py",
   "mimetype": "text/x-python",
   "name": "python",
   "nbconvert_exporter": "python",
   "pygments_lexer": "ipython3",
   "version": "3.11.5"
  }
 },
 "nbformat": 4,
 "nbformat_minor": 5
}
